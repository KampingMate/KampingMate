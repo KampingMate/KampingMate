{
 "cells": [
  {
   "cell_type": "code",
   "execution_count": 13,
   "id": "d5fafa05-7074-496b-acd0-dfec98fbebaa",
   "metadata": {},
   "outputs": [
    {
     "name": "stderr",
     "output_type": "stream",
     "text": [
      "C:\\Users\\Jung\\AppData\\Local\\Temp\\ipykernel_17960\\2006144527.py:25: MovedIn20Warning: The ``declarative_base()`` function is now available as sqlalchemy.orm.declarative_base(). (deprecated since: 2.0) (Background on SQLAlchemy 2.0 at: https://sqlalche.me/e/b8d9)\n",
      "  Base = declarative_base()\n"
     ]
    },
    {
     "name": "stdout",
     "output_type": "stream",
     "text": [
      "Random ratings have been successfully added to the database.\n"
     ]
    }
   ],
   "source": [
    "# pip install oracledb\n",
    "# pip install sqlalchemy\n",
    "### 위 2개 등록\n",
    "\n",
    "import oracledb\n",
    "import pandas as pd\n",
    "from sqlalchemy import create_engine, Column, Integer, Float, ForeignKey, text\n",
    "from sqlalchemy.ext.declarative import declarative_base\n",
    "from sqlalchemy.orm import sessionmaker, relationship\n",
    "import random\n",
    "\n",
    "# 데이터베이스 연결 설정\n",
    "dsn = \"localhost/XE\"\n",
    "user = \"kamp\"\n",
    "password = \"kamp\"\n",
    "\n",
    "# SQLAlchemy 엔진 생성\n",
    "engine = create_engine(f\"oracle+oracledb://{user}:{password}@{dsn}\")\n",
    "\n",
    "# SQLAlchemy 세션 설정\n",
    "Session = sessionmaker(bind=engine)\n",
    "session = Session()\n",
    "\n",
    "# SQLAlchemy 베이스 클래스 정의\n",
    "Base = declarative_base()\n",
    "\n",
    "# MemberData, GoCamping, Review 테이블 정의\n",
    "class MemberData(Base):\n",
    "    __tablename__ = 'member_data'\n",
    "    no_data = Column(Integer, primary_key=True)\n",
    "\n",
    "class GoCamping(Base):\n",
    "    __tablename__ = 'go_camping'\n",
    "    content_id = Column(Integer, primary_key=True)\n",
    "\n",
    "class Review(Base):\n",
    "    __tablename__ = 'review'\n",
    "    review_seq = Column(Integer, primary_key=True)\n",
    "    bookmark = Column(Integer)\n",
    "    goodpoint = Column(Integer)\n",
    "    cnt = Column(Integer)\n",
    "    id = Column(Integer, ForeignKey('member_data.no_data'))\n",
    "    kakao_id = Column(Integer, ForeignKey('go_camping.content_id'))\n",
    "    reviewrate = Column(Integer)\n",
    "\n",
    "    member = relationship('MemberData')\n",
    "    content = relationship('GoCamping')\n",
    "\n",
    "# 시퀀스를 사용하여 review_seq 값을 생성하는 함수\n",
    "def get_next_review_seq():\n",
    "    with engine.connect() as conn:\n",
    "        result = conn.execute(text(\"SELECT reviewseq.NEXTVAL FROM dual\"))\n",
    "        return result.scalar()\n",
    "\n",
    "# 데이터 조회\n",
    "members = session.query(MemberData).filter(MemberData.no_data >= 1, MemberData.no_data <= 9).all()\n",
    "contents = session.query(GoCamping).all()\n",
    "\n",
    "# 각 멤버에 대해 2000개의 고유한 content_id를 선택하고 랜덤 점수 부여\n",
    "reviews = []\n",
    "for member in members:\n",
    "    if len(contents) < 2000:  # 생성할 평점 갯수(멤버당)\n",
    "        raise ValueError(\"Not enough unique content_id available to assign 2000 ratings per member.\")\n",
    "    \n",
    "    selected_contents = random.sample(contents, 2000)  # 숫자 편집(위와 동일하게)\n",
    "    for content in selected_contents:\n",
    "        rating = random.randint(1, 5)  # 1점 ~ 5점 까지\n",
    "        review_seq = get_next_review_seq()  # 시퀀스를 사용하여 review_seq 생성\n",
    "        reviews.append(Review(\n",
    "            review_seq=review_seq,\n",
    "            bookmark=0,\n",
    "            goodpoint=0,\n",
    "            cnt=0,\n",
    "            id=member.no_data,\n",
    "            kakao_id=content.content_id,\n",
    "            reviewrate=rating\n",
    "        ))\n",
    "\n",
    "# 데이터베이스에 삽입\n",
    "session.bulk_save_objects(reviews)\n",
    "session.commit()\n",
    "\n",
    "print(\"Random ratings have been successfully added to the database.\")\n"
   ]
  },
  {
   "cell_type": "code",
   "execution_count": null,
   "id": "bfe223b8-5f60-4997-a467-a935b4a027af",
   "metadata": {},
   "outputs": [],
   "source": []
  }
 ],
 "metadata": {
  "kernelspec": {
   "display_name": "Python 3 (ipykernel)",
   "language": "python",
   "name": "python3"
  },
  "language_info": {
   "codemirror_mode": {
    "name": "ipython",
    "version": 3
   },
   "file_extension": ".py",
   "mimetype": "text/x-python",
   "name": "python",
   "nbconvert_exporter": "python",
   "pygments_lexer": "ipython3",
   "version": "3.11.7"
  }
 },
 "nbformat": 4,
 "nbformat_minor": 5
}
