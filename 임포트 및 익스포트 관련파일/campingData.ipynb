{
 "cells": [
  {
   "cell_type": "code",
   "execution_count": 2,
   "id": "e2c4d1f2-a447-4b6f-97d5-fca070ddd8e4",
   "metadata": {
    "tags": []
   },
   "outputs": [
    {
     "name": "stdout",
     "output_type": "stream",
     "text": [
      "['운일암반일암관광지 야영장', '졸드루오토캠핑장', '캠프 에이프릴', '오션포레글램핑', '블루마린 캠핑장']\n"
     ]
    }
   ],
   "source": [
    "import pandas as pd\n",
    "from sklearn.metrics.pairwise import cosine_similarity\n",
    "from sklearn.preprocessing import MultiLabelBinarizer\n",
    "from surprise import Dataset, Reader, SVD\n",
    "from surprise.model_selection import train_test_split\n",
    "\n",
    "# 데이터 로드\n",
    "file_path = './campingData.csv'\n",
    "camping_data = pd.read_csv(file_path, encoding='utf-8')\n",
    "\n",
    "# NaN 값을 빈 문자열로 대체\n",
    "camping_data['lctCl'] = camping_data['lctCl'].fillna('')\n",
    "camping_data['sbrsCl'] = camping_data['sbrsCl'].fillna('')\n",
    "camping_data['siteBottomCl1'] = camping_data['siteBottomCl1'].fillna('')\n",
    "camping_data['siteBottomCl2'] = camping_data['siteBottomCl2'].fillna('')\n",
    "camping_data['siteBottomCl3'] = camping_data['siteBottomCl3'].fillna('')\n",
    "camping_data['siteBottomCl4'] = camping_data['siteBottomCl4'].fillna('')\n",
    "camping_data['siteBottomCl5'] = camping_data['siteBottomCl5'].fillna('')\n",
    "\n",
    "# MultiLabelBinarizer 초기화\n",
    "mlb = MultiLabelBinarizer()\n",
    "\n",
    "# 입지 구분 벡터화\n",
    "lctCl_vectors = mlb.fit_transform(camping_data['lctCl'].str.split(','))\n",
    "\n",
    "# 주요 시설 벡터화\n",
    "sbrsCl_vectors = mlb.fit_transform(camping_data['sbrsCl'].str.split(','))\n",
    "\n",
    "# 바닥 형태 벡터화\n",
    "siteBottom_vectors = camping_data[['siteBottomCl1', 'siteBottomCl2', 'siteBottomCl3', 'siteBottomCl4', 'siteBottomCl5']].values\n",
    "\n",
    "# 모든 특성 결합\n",
    "feature_vectors = pd.concat([\n",
    "    pd.DataFrame(lctCl_vectors, index=camping_data.index),\n",
    "    pd.DataFrame(sbrsCl_vectors, index=camping_data.index),\n",
    "    pd.DataFrame(siteBottom_vectors, index=camping_data.index)\n",
    "], axis=1)\n",
    "\n",
    "# 코사인 유사도 계산\n",
    "cosine_sim = cosine_similarity(feature_vectors)\n",
    "cosine_sim_df = pd.DataFrame(cosine_sim, index=camping_data['facltNm'], columns=camping_data['facltNm'])\n",
    "\n",
    "# 특정 캠핑장과 유사한 캠핑장 추천\n",
    "def recommend_similar_camps(camp_name, top_n=5):\n",
    "    similar_camps = cosine_sim_df[camp_name].sort_values(ascending=False).head(top_n + 1).index[1:]\n",
    "    return similar_camps\n",
    "\n",
    "# 가상 평점 생성\n",
    "camping_data['user_id'] = camping_data.index % 10  # 가상 사용자 ID 생성\n",
    "camping_data['rating'] = 5  # 가상 평점 (모든 캠핑장에 5점)\n",
    "\n",
    "# Surprise 데이터 준비\n",
    "reader = Reader(rating_scale=(1, 5))\n",
    "data = Dataset.load_from_df(camping_data[['user_id', 'facltNm', 'rating']], reader)\n",
    "trainset, testset = train_test_split(data, test_size=0.25)\n",
    "\n",
    "# Surprise 모델 학습\n",
    "algo = SVD()\n",
    "algo.fit(trainset)\n",
    "\n",
    "# 예측 및 추천\n",
    "def recommend_with_surprise(user_id, top_n=5):\n",
    "    all_camps = camping_data['facltNm'].unique()\n",
    "    user_ratings = [(user_id, camp, algo.predict(user_id, camp).est) for camp in all_camps]\n",
    "    top_recommendations = sorted(user_ratings, key=lambda x: x[2], reverse=True)[:top_n]\n",
    "    return [camp for user, camp, rating in top_recommendations]\n",
    "\n",
    "# 두 가지 방법 통합\n",
    "def combined_recommendation(user_id, camp_name, top_n=5):\n",
    "    # 코사인 유사도로 초기 후보 선정\n",
    "    similar_camps = recommend_similar_camps(camp_name, top_n=20)\n",
    "    \n",
    "    # Surprise 모델을 사용하여 최종 추천\n",
    "    user_ratings = [(user_id, camp, algo.predict(user_id, camp).est) for camp in similar_camps]\n",
    "    top_recommendations = sorted(user_ratings, key=lambda x: x[2], reverse=True)[:top_n]\n",
    "    return [camp for user, camp, rating in top_recommendations]\n",
    "\n",
    "# 예시 통합 추천\n",
    "print(combined_recommendation(1, '(주)아웃오브파크'))\n"
   ]
  },
  {
   "cell_type": "code",
   "execution_count": null,
   "id": "89c4d513-4ee6-4a25-b783-b1a24fff3e43",
   "metadata": {},
   "outputs": [],
   "source": []
  }
 ],
 "metadata": {
  "kernelspec": {
   "display_name": "Python 3 (ipykernel)",
   "language": "python",
   "name": "python3"
  },
  "language_info": {
   "codemirror_mode": {
    "name": "ipython",
    "version": 3
   },
   "file_extension": ".py",
   "mimetype": "text/x-python",
   "name": "python",
   "nbconvert_exporter": "python",
   "pygments_lexer": "ipython3",
   "version": "3.11.5"
  }
 },
 "nbformat": 4,
 "nbformat_minor": 5
}
